{
 "cells": [
  {
   "cell_type": "markdown",
   "metadata": {},
   "source": [
    "# Importing all the necessary libraries and reading the data"
   ]
  },
  {
   "cell_type": "code",
   "execution_count": 81,
   "metadata": {},
   "outputs": [],
   "source": [
    "import numpy as  np\n",
    "import pandas as pd\n",
    "from sklearn import preprocessing \n",
    "import seaborn as sns\n",
    "from imblearn.over_sampling import SMOTE\n",
    "import tensorflow as tf"
   ]
  },
  {
   "cell_type": "code",
   "execution_count": 82,
   "metadata": {},
   "outputs": [],
   "source": [
    "data=pd.read_csv(r'C:\\Users\\Akshay Deshmukh\\Desktop\\Data Science\\Datasets\\Telecom\\telecom_users.csv')"
   ]
  },
  {
   "cell_type": "code",
   "execution_count": 83,
   "metadata": {
    "scrolled": true
   },
   "outputs": [
    {
     "data": {
      "text/html": [
       "<div>\n",
       "<style scoped>\n",
       "    .dataframe tbody tr th:only-of-type {\n",
       "        vertical-align: middle;\n",
       "    }\n",
       "\n",
       "    .dataframe tbody tr th {\n",
       "        vertical-align: top;\n",
       "    }\n",
       "\n",
       "    .dataframe thead th {\n",
       "        text-align: right;\n",
       "    }\n",
       "</style>\n",
       "<table border=\"1\" class=\"dataframe\">\n",
       "  <thead>\n",
       "    <tr style=\"text-align: right;\">\n",
       "      <th></th>\n",
       "      <th>Unnamed: 0</th>\n",
       "      <th>customerID</th>\n",
       "      <th>gender</th>\n",
       "      <th>SeniorCitizen</th>\n",
       "      <th>Partner</th>\n",
       "      <th>Dependents</th>\n",
       "      <th>tenure</th>\n",
       "      <th>PhoneService</th>\n",
       "      <th>MultipleLines</th>\n",
       "      <th>InternetService</th>\n",
       "      <th>...</th>\n",
       "      <th>DeviceProtection</th>\n",
       "      <th>TechSupport</th>\n",
       "      <th>StreamingTV</th>\n",
       "      <th>StreamingMovies</th>\n",
       "      <th>Contract</th>\n",
       "      <th>PaperlessBilling</th>\n",
       "      <th>PaymentMethod</th>\n",
       "      <th>MonthlyCharges</th>\n",
       "      <th>TotalCharges</th>\n",
       "      <th>Churn</th>\n",
       "    </tr>\n",
       "  </thead>\n",
       "  <tbody>\n",
       "    <tr>\n",
       "      <th>0</th>\n",
       "      <td>1869</td>\n",
       "      <td>7010-BRBUU</td>\n",
       "      <td>Male</td>\n",
       "      <td>0</td>\n",
       "      <td>Yes</td>\n",
       "      <td>Yes</td>\n",
       "      <td>72</td>\n",
       "      <td>Yes</td>\n",
       "      <td>Yes</td>\n",
       "      <td>No</td>\n",
       "      <td>...</td>\n",
       "      <td>No internet service</td>\n",
       "      <td>No internet service</td>\n",
       "      <td>No internet service</td>\n",
       "      <td>No internet service</td>\n",
       "      <td>Two year</td>\n",
       "      <td>No</td>\n",
       "      <td>Credit card (automatic)</td>\n",
       "      <td>24.10</td>\n",
       "      <td>1734.65</td>\n",
       "      <td>No</td>\n",
       "    </tr>\n",
       "    <tr>\n",
       "      <th>1</th>\n",
       "      <td>4528</td>\n",
       "      <td>9688-YGXVR</td>\n",
       "      <td>Female</td>\n",
       "      <td>0</td>\n",
       "      <td>No</td>\n",
       "      <td>No</td>\n",
       "      <td>44</td>\n",
       "      <td>Yes</td>\n",
       "      <td>No</td>\n",
       "      <td>Fiber optic</td>\n",
       "      <td>...</td>\n",
       "      <td>Yes</td>\n",
       "      <td>No</td>\n",
       "      <td>Yes</td>\n",
       "      <td>No</td>\n",
       "      <td>Month-to-month</td>\n",
       "      <td>Yes</td>\n",
       "      <td>Credit card (automatic)</td>\n",
       "      <td>88.15</td>\n",
       "      <td>3973.2</td>\n",
       "      <td>No</td>\n",
       "    </tr>\n",
       "    <tr>\n",
       "      <th>2</th>\n",
       "      <td>6344</td>\n",
       "      <td>9286-DOJGF</td>\n",
       "      <td>Female</td>\n",
       "      <td>1</td>\n",
       "      <td>Yes</td>\n",
       "      <td>No</td>\n",
       "      <td>38</td>\n",
       "      <td>Yes</td>\n",
       "      <td>Yes</td>\n",
       "      <td>Fiber optic</td>\n",
       "      <td>...</td>\n",
       "      <td>No</td>\n",
       "      <td>No</td>\n",
       "      <td>No</td>\n",
       "      <td>No</td>\n",
       "      <td>Month-to-month</td>\n",
       "      <td>Yes</td>\n",
       "      <td>Bank transfer (automatic)</td>\n",
       "      <td>74.95</td>\n",
       "      <td>2869.85</td>\n",
       "      <td>Yes</td>\n",
       "    </tr>\n",
       "    <tr>\n",
       "      <th>3</th>\n",
       "      <td>6739</td>\n",
       "      <td>6994-KERXL</td>\n",
       "      <td>Male</td>\n",
       "      <td>0</td>\n",
       "      <td>No</td>\n",
       "      <td>No</td>\n",
       "      <td>4</td>\n",
       "      <td>Yes</td>\n",
       "      <td>No</td>\n",
       "      <td>DSL</td>\n",
       "      <td>...</td>\n",
       "      <td>No</td>\n",
       "      <td>No</td>\n",
       "      <td>No</td>\n",
       "      <td>Yes</td>\n",
       "      <td>Month-to-month</td>\n",
       "      <td>Yes</td>\n",
       "      <td>Electronic check</td>\n",
       "      <td>55.90</td>\n",
       "      <td>238.5</td>\n",
       "      <td>No</td>\n",
       "    </tr>\n",
       "    <tr>\n",
       "      <th>4</th>\n",
       "      <td>432</td>\n",
       "      <td>2181-UAESM</td>\n",
       "      <td>Male</td>\n",
       "      <td>0</td>\n",
       "      <td>No</td>\n",
       "      <td>No</td>\n",
       "      <td>2</td>\n",
       "      <td>Yes</td>\n",
       "      <td>No</td>\n",
       "      <td>DSL</td>\n",
       "      <td>...</td>\n",
       "      <td>Yes</td>\n",
       "      <td>No</td>\n",
       "      <td>No</td>\n",
       "      <td>No</td>\n",
       "      <td>Month-to-month</td>\n",
       "      <td>No</td>\n",
       "      <td>Electronic check</td>\n",
       "      <td>53.45</td>\n",
       "      <td>119.5</td>\n",
       "      <td>No</td>\n",
       "    </tr>\n",
       "  </tbody>\n",
       "</table>\n",
       "<p>5 rows × 22 columns</p>\n",
       "</div>"
      ],
      "text/plain": [
       "   Unnamed: 0  customerID  gender  SeniorCitizen Partner Dependents  tenure  \\\n",
       "0        1869  7010-BRBUU    Male              0     Yes        Yes      72   \n",
       "1        4528  9688-YGXVR  Female              0      No         No      44   \n",
       "2        6344  9286-DOJGF  Female              1     Yes         No      38   \n",
       "3        6739  6994-KERXL    Male              0      No         No       4   \n",
       "4         432  2181-UAESM    Male              0      No         No       2   \n",
       "\n",
       "  PhoneService MultipleLines InternetService  ...     DeviceProtection  \\\n",
       "0          Yes           Yes              No  ...  No internet service   \n",
       "1          Yes            No     Fiber optic  ...                  Yes   \n",
       "2          Yes           Yes     Fiber optic  ...                   No   \n",
       "3          Yes            No             DSL  ...                   No   \n",
       "4          Yes            No             DSL  ...                  Yes   \n",
       "\n",
       "           TechSupport          StreamingTV      StreamingMovies  \\\n",
       "0  No internet service  No internet service  No internet service   \n",
       "1                   No                  Yes                   No   \n",
       "2                   No                   No                   No   \n",
       "3                   No                   No                  Yes   \n",
       "4                   No                   No                   No   \n",
       "\n",
       "         Contract PaperlessBilling              PaymentMethod MonthlyCharges  \\\n",
       "0        Two year               No    Credit card (automatic)          24.10   \n",
       "1  Month-to-month              Yes    Credit card (automatic)          88.15   \n",
       "2  Month-to-month              Yes  Bank transfer (automatic)          74.95   \n",
       "3  Month-to-month              Yes           Electronic check          55.90   \n",
       "4  Month-to-month               No           Electronic check          53.45   \n",
       "\n",
       "  TotalCharges  Churn  \n",
       "0      1734.65     No  \n",
       "1       3973.2     No  \n",
       "2      2869.85    Yes  \n",
       "3        238.5     No  \n",
       "4        119.5     No  \n",
       "\n",
       "[5 rows x 22 columns]"
      ]
     },
     "execution_count": 83,
     "metadata": {},
     "output_type": "execute_result"
    }
   ],
   "source": [
    "data.head()"
   ]
  },
  {
   "cell_type": "markdown",
   "metadata": {},
   "source": [
    "# Exploratory data analysis"
   ]
  },
  {
   "cell_type": "code",
   "execution_count": 84,
   "metadata": {},
   "outputs": [
    {
     "data": {
      "text/plain": [
       "(5986, 22)"
      ]
     },
     "execution_count": 84,
     "metadata": {},
     "output_type": "execute_result"
    }
   ],
   "source": [
    "data.shape"
   ]
  },
  {
   "cell_type": "code",
   "execution_count": 85,
   "metadata": {},
   "outputs": [
    {
     "data": {
      "text/plain": [
       "Index(['Unnamed: 0', 'customerID', 'gender', 'SeniorCitizen', 'Partner',\n",
       "       'Dependents', 'tenure', 'PhoneService', 'MultipleLines',\n",
       "       'InternetService', 'OnlineSecurity', 'OnlineBackup', 'DeviceProtection',\n",
       "       'TechSupport', 'StreamingTV', 'StreamingMovies', 'Contract',\n",
       "       'PaperlessBilling', 'PaymentMethod', 'MonthlyCharges', 'TotalCharges',\n",
       "       'Churn'],\n",
       "      dtype='object')"
      ]
     },
     "execution_count": 85,
     "metadata": {},
     "output_type": "execute_result"
    }
   ],
   "source": [
    "data.columns"
   ]
  },
  {
   "cell_type": "code",
   "execution_count": 86,
   "metadata": {},
   "outputs": [
    {
     "name": "stdout",
     "output_type": "stream",
     "text": [
      "<class 'pandas.core.frame.DataFrame'>\n",
      "RangeIndex: 5986 entries, 0 to 5985\n",
      "Data columns (total 22 columns):\n",
      " #   Column            Non-Null Count  Dtype  \n",
      "---  ------            --------------  -----  \n",
      " 0   Unnamed: 0        5986 non-null   int64  \n",
      " 1   customerID        5986 non-null   object \n",
      " 2   gender            5986 non-null   object \n",
      " 3   SeniorCitizen     5986 non-null   int64  \n",
      " 4   Partner           5986 non-null   object \n",
      " 5   Dependents        5986 non-null   object \n",
      " 6   tenure            5986 non-null   int64  \n",
      " 7   PhoneService      5986 non-null   object \n",
      " 8   MultipleLines     5986 non-null   object \n",
      " 9   InternetService   5986 non-null   object \n",
      " 10  OnlineSecurity    5986 non-null   object \n",
      " 11  OnlineBackup      5986 non-null   object \n",
      " 12  DeviceProtection  5986 non-null   object \n",
      " 13  TechSupport       5986 non-null   object \n",
      " 14  StreamingTV       5986 non-null   object \n",
      " 15  StreamingMovies   5986 non-null   object \n",
      " 16  Contract          5986 non-null   object \n",
      " 17  PaperlessBilling  5986 non-null   object \n",
      " 18  PaymentMethod     5986 non-null   object \n",
      " 19  MonthlyCharges    5986 non-null   float64\n",
      " 20  TotalCharges      5986 non-null   object \n",
      " 21  Churn             5986 non-null   object \n",
      "dtypes: float64(1), int64(3), object(18)\n",
      "memory usage: 1.0+ MB\n"
     ]
    }
   ],
   "source": [
    "data.info()"
   ]
  },
  {
   "cell_type": "code",
   "execution_count": 87,
   "metadata": {},
   "outputs": [],
   "source": [
    "data.TotalCharges=pd.to_numeric(data.TotalCharges, errors=\"coerce\") "
   ]
  },
  {
   "cell_type": "code",
   "execution_count": 88,
   "metadata": {},
   "outputs": [
    {
     "data": {
      "text/plain": [
       "No     4399\n",
       "Yes    1587\n",
       "Name: Churn, dtype: int64"
      ]
     },
     "execution_count": 88,
     "metadata": {},
     "output_type": "execute_result"
    }
   ],
   "source": [
    "data['Churn'].value_counts()"
   ]
  },
  {
   "cell_type": "code",
   "execution_count": 89,
   "metadata": {},
   "outputs": [
    {
     "data": {
      "text/plain": [
       "Unnamed: 0           0\n",
       "customerID           0\n",
       "gender               0\n",
       "SeniorCitizen        0\n",
       "Partner              0\n",
       "Dependents           0\n",
       "tenure               0\n",
       "PhoneService         0\n",
       "MultipleLines        0\n",
       "InternetService      0\n",
       "OnlineSecurity       0\n",
       "OnlineBackup         0\n",
       "DeviceProtection     0\n",
       "TechSupport          0\n",
       "StreamingTV          0\n",
       "StreamingMovies      0\n",
       "Contract             0\n",
       "PaperlessBilling     0\n",
       "PaymentMethod        0\n",
       "MonthlyCharges       0\n",
       "TotalCharges        10\n",
       "Churn                0\n",
       "dtype: int64"
      ]
     },
     "execution_count": 89,
     "metadata": {},
     "output_type": "execute_result"
    }
   ],
   "source": [
    "data.isnull().sum()"
   ]
  },
  {
   "cell_type": "code",
   "execution_count": 90,
   "metadata": {},
   "outputs": [],
   "source": [
    "data['TotalCharges'].fillna(data['TotalCharges'].median(), inplace=True)"
   ]
  },
  {
   "cell_type": "code",
   "execution_count": 91,
   "metadata": {},
   "outputs": [
    {
     "data": {
      "text/html": [
       "<div>\n",
       "<style scoped>\n",
       "    .dataframe tbody tr th:only-of-type {\n",
       "        vertical-align: middle;\n",
       "    }\n",
       "\n",
       "    .dataframe tbody tr th {\n",
       "        vertical-align: top;\n",
       "    }\n",
       "\n",
       "    .dataframe thead th {\n",
       "        text-align: right;\n",
       "    }\n",
       "</style>\n",
       "<table border=\"1\" class=\"dataframe\">\n",
       "  <thead>\n",
       "    <tr style=\"text-align: right;\">\n",
       "      <th></th>\n",
       "      <th>Unnamed: 0</th>\n",
       "      <th>SeniorCitizen</th>\n",
       "      <th>tenure</th>\n",
       "      <th>MonthlyCharges</th>\n",
       "      <th>TotalCharges</th>\n",
       "    </tr>\n",
       "  </thead>\n",
       "  <tbody>\n",
       "    <tr>\n",
       "      <th>count</th>\n",
       "      <td>5986.000000</td>\n",
       "      <td>5986.000000</td>\n",
       "      <td>5986.000000</td>\n",
       "      <td>5986.000000</td>\n",
       "      <td>5986.000000</td>\n",
       "    </tr>\n",
       "    <tr>\n",
       "      <th>mean</th>\n",
       "      <td>3533.561310</td>\n",
       "      <td>0.161377</td>\n",
       "      <td>32.468760</td>\n",
       "      <td>64.802213</td>\n",
       "      <td>2296.580647</td>\n",
       "    </tr>\n",
       "    <tr>\n",
       "      <th>std</th>\n",
       "      <td>2035.705666</td>\n",
       "      <td>0.367909</td>\n",
       "      <td>24.516391</td>\n",
       "      <td>30.114702</td>\n",
       "      <td>2272.514574</td>\n",
       "    </tr>\n",
       "    <tr>\n",
       "      <th>min</th>\n",
       "      <td>0.000000</td>\n",
       "      <td>0.000000</td>\n",
       "      <td>0.000000</td>\n",
       "      <td>18.250000</td>\n",
       "      <td>18.800000</td>\n",
       "    </tr>\n",
       "    <tr>\n",
       "      <th>25%</th>\n",
       "      <td>1777.250000</td>\n",
       "      <td>0.000000</td>\n",
       "      <td>9.000000</td>\n",
       "      <td>35.650000</td>\n",
       "      <td>406.275000</td>\n",
       "    </tr>\n",
       "    <tr>\n",
       "      <th>50%</th>\n",
       "      <td>3546.500000</td>\n",
       "      <td>0.000000</td>\n",
       "      <td>29.000000</td>\n",
       "      <td>70.400000</td>\n",
       "      <td>1412.150000</td>\n",
       "    </tr>\n",
       "    <tr>\n",
       "      <th>75%</th>\n",
       "      <td>5291.750000</td>\n",
       "      <td>0.000000</td>\n",
       "      <td>56.000000</td>\n",
       "      <td>89.900000</td>\n",
       "      <td>3841.500000</td>\n",
       "    </tr>\n",
       "    <tr>\n",
       "      <th>max</th>\n",
       "      <td>7042.000000</td>\n",
       "      <td>1.000000</td>\n",
       "      <td>72.000000</td>\n",
       "      <td>118.750000</td>\n",
       "      <td>8684.800000</td>\n",
       "    </tr>\n",
       "  </tbody>\n",
       "</table>\n",
       "</div>"
      ],
      "text/plain": [
       "        Unnamed: 0  SeniorCitizen       tenure  MonthlyCharges  TotalCharges\n",
       "count  5986.000000    5986.000000  5986.000000     5986.000000   5986.000000\n",
       "mean   3533.561310       0.161377    32.468760       64.802213   2296.580647\n",
       "std    2035.705666       0.367909    24.516391       30.114702   2272.514574\n",
       "min       0.000000       0.000000     0.000000       18.250000     18.800000\n",
       "25%    1777.250000       0.000000     9.000000       35.650000    406.275000\n",
       "50%    3546.500000       0.000000    29.000000       70.400000   1412.150000\n",
       "75%    5291.750000       0.000000    56.000000       89.900000   3841.500000\n",
       "max    7042.000000       1.000000    72.000000      118.750000   8684.800000"
      ]
     },
     "execution_count": 91,
     "metadata": {},
     "output_type": "execute_result"
    }
   ],
   "source": [
    "data.describe()"
   ]
  },
  {
   "cell_type": "markdown",
   "metadata": {},
   "source": [
    "# Key points from the EDA\n",
    "\n",
    "1. Data Consists of 22 independent variables including the target.\n",
    "\n",
    "\n",
    "2. Through data.info it is observed that there are non-null values present in the dataset.\n",
    "\n",
    "\n",
    "3. The TotalCharges variable has an object Datatype.\n",
    "\n",
    "\n",
    "4. After converting the TotalCharges variable into numeric datatype, 10 null values are found and replaced with the mean value as the number of missing values is to low.\n",
    "\n",
    "\n",
    "5. The dataset is highly biased as we have only 1587 data points for people who have terminated their services out the 5986 datapoints in the data-set.\n"
   ]
  },
  {
   "cell_type": "markdown",
   "metadata": {},
   "source": [
    "# Data Visualization"
   ]
  },
  {
   "cell_type": "code",
   "execution_count": 92,
   "metadata": {},
   "outputs": [
    {
     "data": {
      "text/plain": [
       "<seaborn.axisgrid.FacetGrid at 0x2090f326a90>"
      ]
     },
     "execution_count": 92,
     "metadata": {},
     "output_type": "execute_result"
    },
    {
     "data": {
      "image/png": "[encoded data removed]",
      "text/plain": [
       "<Figure size 412x360 with 1 Axes>"
      ]
     },
     "metadata": {
      "needs_background": "light"
     },
     "output_type": "display_data"
    }
   ],
   "source": [
    "sns.catplot(x=\"gender\", kind=\"count\", palette=\"ch:.25\", data=data, hue=\"Churn\")"
   ]
  },
  {
   "cell_type": "markdown",
   "metadata": {},
   "source": [
    "The churning of the customer does not depend on the gender of the customer."
   ]
  },
  {
   "cell_type": "code",
   "execution_count": 93,
   "metadata": {},
   "outputs": [
    {
     "data": {
      "text/plain": [
       "<seaborn.axisgrid.FacetGrid at 0x208973acd00>"
      ]
     },
     "execution_count": 93,
     "metadata": {},
     "output_type": "execute_result"
    },
    {
     "data": {
      "image/png": "[encoded data removed]",
      "text/plain": [
       "<Figure size 412x360 with 1 Axes>"
      ]
     },
     "metadata": {
      "needs_background": "light"
     },
     "output_type": "display_data"
    }
   ],
   "source": [
    "sns.catplot(x=\"SeniorCitizen\", kind=\"count\", data=data, hue=\"Churn\")"
   ]
  },
  {
   "cell_type": "markdown",
   "metadata": {},
   "source": [
    "Senior citizens tend to churn more  than the younger people."
   ]
  },
  {
   "cell_type": "code",
   "execution_count": 94,
   "metadata": {},
   "outputs": [
    {
     "data": {
      "text/plain": [
       "<seaborn.axisgrid.FacetGrid at 0x209105993a0>"
      ]
     },
     "execution_count": 94,
     "metadata": {},
     "output_type": "execute_result"
    },
    {
     "data": {
      "image/png": "[encoded data removed]",
      "text/plain": [
       "<Figure size 412x360 with 1 Axes>"
      ]
     },
     "metadata": {
      "needs_background": "light"
     },
     "output_type": "display_data"
    }
   ],
   "source": [
    "sns.catplot(x=\"InternetService\", kind=\"count\", palette=\"ch:.25\", data=data, hue=\"Churn\")"
   ]
  },
  {
   "cell_type": "markdown",
   "metadata": {},
   "source": [
    "People with fiber optic internet service connections tend to terminate their services."
   ]
  },
  {
   "cell_type": "code",
   "execution_count": 95,
   "metadata": {},
   "outputs": [
    {
     "data": {
      "text/plain": [
       "<seaborn.axisgrid.FacetGrid at 0x2091056fa90>"
      ]
     },
     "execution_count": 95,
     "metadata": {},
     "output_type": "execute_result"
    },
    {
     "data": {
      "image/png": "[encoded data removed]",
      "text/plain": [
       "<Figure size 412x360 with 1 Axes>"
      ]
     },
     "metadata": {
      "needs_background": "light"
     },
     "output_type": "display_data"
    }
   ],
   "source": [
    "sns.catplot(x=\"Contract\", kind=\"count\", data=data, hue=\"Churn\")"
   ]
  },
  {
   "cell_type": "markdown",
   "metadata": {},
   "source": [
    "Poeple with yearly plans have less probability of churning than people with monthly plans."
   ]
  },
  {
   "cell_type": "code",
   "execution_count": 96,
   "metadata": {},
   "outputs": [],
   "source": [
    "Foptic_data=data[data[\"InternetService\"]=='Fiber optic']"
   ]
  },
  {
   "cell_type": "markdown",
   "metadata": {},
   "source": [
    "# Analysis over people having fiber optic connections as they have the higgest probability of terminating their services."
   ]
  },
  {
   "cell_type": "code",
   "execution_count": 97,
   "metadata": {
    "scrolled": false
   },
   "outputs": [
    {
     "data": {
      "text/plain": [
       "<seaborn.axisgrid.FacetGrid at 0x20910460cd0>"
      ]
     },
     "execution_count": 97,
     "metadata": {},
     "output_type": "execute_result"
    },
    {
     "data": {
      "image/png": "[encoded data removed]",
      "text/plain": [
       "<Figure size 412x360 with 1 Axes>"
      ]
     },
     "metadata": {
      "needs_background": "light"
     },
     "output_type": "display_data"
    }
   ],
   "source": [
    "sns.catplot(x=\"DeviceProtection\", palette=\"ch:.25\",kind=\"count\", data=Foptic_data, hue=\"Churn\")"
   ]
  },
  {
   "cell_type": "markdown",
   "metadata": {},
   "source": [
    "People with fiber optic connections do not tend to take device protection services which must because problems with the devices resulting in people terminating their services."
   ]
  },
  {
   "cell_type": "code",
   "execution_count": 98,
   "metadata": {
    "scrolled": false
   },
   "outputs": [
    {
     "data": {
      "text/plain": [
       "<seaborn.axisgrid.FacetGrid at 0x209104dbc40>"
      ]
     },
     "execution_count": 98,
     "metadata": {},
     "output_type": "execute_result"
    },
    {
     "data": {
      "image/png": "[encoded data removed]",
      "text/plain": [
       "<Figure size 412x360 with 1 Axes>"
      ]
     },
     "metadata": {
      "needs_background": "light"
     },
     "output_type": "display_data"
    }
   ],
   "source": [
    "sns.catplot(x=\"TechSupport\", kind=\"count\" , data=Foptic_data, hue=\"Churn\")"
   ]
  },
  {
   "cell_type": "markdown",
   "metadata": {},
   "source": [
    "People with fiber optic services also do not tend to take tech support resulting in device problems and people terminating their services."
   ]
  },
  {
   "cell_type": "code",
   "execution_count": 99,
   "metadata": {},
   "outputs": [
    {
     "data": {
      "text/plain": [
       "<seaborn.axisgrid.FacetGrid at 0x20910460fa0>"
      ]
     },
     "execution_count": 99,
     "metadata": {},
     "output_type": "execute_result"
    },
    {
     "data": {
      "image/png": "[encoded data removed]",
      "text/plain": [
       "<Figure size 412x360 with 1 Axes>"
      ]
     },
     "metadata": {
      "needs_background": "light"
     },
     "output_type": "display_data"
    }
   ],
   "source": [
    "sns.catplot(x=\"Contract\", kind=\"count\", palette=\"ch:.25\",data=Foptic_data, hue=\"Churn\")"
   ]
  },
  {
   "cell_type": "markdown",
   "metadata": {},
   "source": [
    "Same results have been observed here. People with yearly plans have less probability of terminating their services than people with monthly plans."
   ]
  },
  {
   "cell_type": "code",
   "execution_count": 100,
   "metadata": {},
   "outputs": [
    {
     "data": {
      "text/plain": [
       "<seaborn.axisgrid.FacetGrid at 0x20910498cd0>"
      ]
     },
     "execution_count": 100,
     "metadata": {},
     "output_type": "execute_result"
    },
    {
     "data": {
      "image/png": "[encoded data removed]",
      "text/plain": [
       "<Figure size 412x360 with 1 Axes>"
      ]
     },
     "metadata": {
      "needs_background": "light"
     },
     "output_type": "display_data"
    }
   ],
   "source": [
    "sns.catplot(x=\"OnlineSecurity\", kind=\"count\", data=Foptic_data, hue=\"Churn\")"
   ]
  },
  {
   "cell_type": "markdown",
   "metadata": {},
   "source": [
    "People with no online security also have a higher  probability of terminating their services. "
   ]
  },
  {
   "cell_type": "code",
   "execution_count": 101,
   "metadata": {},
   "outputs": [
    {
     "data": {
      "text/plain": [
       "<seaborn.axisgrid.FacetGrid at 0x209105fc070>"
      ]
     },
     "execution_count": 101,
     "metadata": {},
     "output_type": "execute_result"
    },
    {
     "data": {
      "image/png": "[encoded data removed]",
      "text/plain": [
       "<Figure size 412x360 with 1 Axes>"
      ]
     },
     "metadata": {
      "needs_background": "light"
     },
     "output_type": "display_data"
    }
   ],
   "source": [
    "sns.catplot(x=\"OnlineBackup\", palette=\"ch:.25\" ,kind=\"count\", data=Foptic_data, hue=\"Churn\")"
   ]
  },
  {
   "cell_type": "markdown",
   "metadata": {},
   "source": [
    "Similar results can be observed with people having no online backup, they have a higger probability of terminating their services."
   ]
  },
  {
   "cell_type": "markdown",
   "metadata": {},
   "source": [
    "# Data pre-processing"
   ]
  },
  {
   "cell_type": "code",
   "execution_count": 102,
   "metadata": {},
   "outputs": [],
   "source": [
    "numeric_data=data[['Unnamed: 0','SeniorCitizen','tenure','MonthlyCharges','TotalCharges']]\n",
    "\n",
    "encode_data=data[['gender', 'Partner',\n",
    "       'Dependents', 'PhoneService', 'MultipleLines',\n",
    "       'InternetService', 'OnlineSecurity', 'OnlineBackup', 'DeviceProtection',\n",
    "       'TechSupport', 'StreamingTV', 'StreamingMovies', 'Contract',\n",
    "       'PaperlessBilling', 'PaymentMethod',\n",
    "       'Churn']]\n",
    "\n",
    "encode_data=encode_data.apply(preprocessing.LabelEncoder().fit_transform)"
   ]
  },
  {
   "cell_type": "markdown",
   "metadata": {},
   "source": [
    "Lable encoding the object variables."
   ]
  },
  {
   "cell_type": "code",
   "execution_count": 103,
   "metadata": {},
   "outputs": [
    {
     "data": {
      "text/html": [
       "<div>\n",
       "<style scoped>\n",
       "    .dataframe tbody tr th:only-of-type {\n",
       "        vertical-align: middle;\n",
       "    }\n",
       "\n",
       "    .dataframe tbody tr th {\n",
       "        vertical-align: top;\n",
       "    }\n",
       "\n",
       "    .dataframe thead th {\n",
       "        text-align: right;\n",
       "    }\n",
       "</style>\n",
       "<table border=\"1\" class=\"dataframe\">\n",
       "  <thead>\n",
       "    <tr style=\"text-align: right;\">\n",
       "      <th></th>\n",
       "      <th>Unnamed: 0</th>\n",
       "      <th>SeniorCitizen</th>\n",
       "      <th>tenure</th>\n",
       "      <th>MonthlyCharges</th>\n",
       "      <th>TotalCharges</th>\n",
       "      <th>gender</th>\n",
       "      <th>Partner</th>\n",
       "      <th>Dependents</th>\n",
       "      <th>PhoneService</th>\n",
       "      <th>MultipleLines</th>\n",
       "      <th>...</th>\n",
       "      <th>OnlineSecurity</th>\n",
       "      <th>OnlineBackup</th>\n",
       "      <th>DeviceProtection</th>\n",
       "      <th>TechSupport</th>\n",
       "      <th>StreamingTV</th>\n",
       "      <th>StreamingMovies</th>\n",
       "      <th>Contract</th>\n",
       "      <th>PaperlessBilling</th>\n",
       "      <th>PaymentMethod</th>\n",
       "      <th>Churn</th>\n",
       "    </tr>\n",
       "  </thead>\n",
       "  <tbody>\n",
       "    <tr>\n",
       "      <th>0</th>\n",
       "      <td>1869</td>\n",
       "      <td>0</td>\n",
       "      <td>72</td>\n",
       "      <td>24.10</td>\n",
       "      <td>1734.65</td>\n",
       "      <td>1</td>\n",
       "      <td>1</td>\n",
       "      <td>1</td>\n",
       "      <td>1</td>\n",
       "      <td>2</td>\n",
       "      <td>...</td>\n",
       "      <td>1</td>\n",
       "      <td>1</td>\n",
       "      <td>1</td>\n",
       "      <td>1</td>\n",
       "      <td>1</td>\n",
       "      <td>1</td>\n",
       "      <td>2</td>\n",
       "      <td>0</td>\n",
       "      <td>1</td>\n",
       "      <td>0</td>\n",
       "    </tr>\n",
       "    <tr>\n",
       "      <th>1</th>\n",
       "      <td>4528</td>\n",
       "      <td>0</td>\n",
       "      <td>44</td>\n",
       "      <td>88.15</td>\n",
       "      <td>3973.20</td>\n",
       "      <td>0</td>\n",
       "      <td>0</td>\n",
       "      <td>0</td>\n",
       "      <td>1</td>\n",
       "      <td>0</td>\n",
       "      <td>...</td>\n",
       "      <td>0</td>\n",
       "      <td>2</td>\n",
       "      <td>2</td>\n",
       "      <td>0</td>\n",
       "      <td>2</td>\n",
       "      <td>0</td>\n",
       "      <td>0</td>\n",
       "      <td>1</td>\n",
       "      <td>1</td>\n",
       "      <td>0</td>\n",
       "    </tr>\n",
       "    <tr>\n",
       "      <th>2</th>\n",
       "      <td>6344</td>\n",
       "      <td>1</td>\n",
       "      <td>38</td>\n",
       "      <td>74.95</td>\n",
       "      <td>2869.85</td>\n",
       "      <td>0</td>\n",
       "      <td>1</td>\n",
       "      <td>0</td>\n",
       "      <td>1</td>\n",
       "      <td>2</td>\n",
       "      <td>...</td>\n",
       "      <td>0</td>\n",
       "      <td>0</td>\n",
       "      <td>0</td>\n",
       "      <td>0</td>\n",
       "      <td>0</td>\n",
       "      <td>0</td>\n",
       "      <td>0</td>\n",
       "      <td>1</td>\n",
       "      <td>0</td>\n",
       "      <td>1</td>\n",
       "    </tr>\n",
       "    <tr>\n",
       "      <th>3</th>\n",
       "      <td>6739</td>\n",
       "      <td>0</td>\n",
       "      <td>4</td>\n",
       "      <td>55.90</td>\n",
       "      <td>238.50</td>\n",
       "      <td>1</td>\n",
       "      <td>0</td>\n",
       "      <td>0</td>\n",
       "      <td>1</td>\n",
       "      <td>0</td>\n",
       "      <td>...</td>\n",
       "      <td>0</td>\n",
       "      <td>0</td>\n",
       "      <td>0</td>\n",
       "      <td>0</td>\n",
       "      <td>0</td>\n",
       "      <td>2</td>\n",
       "      <td>0</td>\n",
       "      <td>1</td>\n",
       "      <td>2</td>\n",
       "      <td>0</td>\n",
       "    </tr>\n",
       "    <tr>\n",
       "      <th>4</th>\n",
       "      <td>432</td>\n",
       "      <td>0</td>\n",
       "      <td>2</td>\n",
       "      <td>53.45</td>\n",
       "      <td>119.50</td>\n",
       "      <td>1</td>\n",
       "      <td>0</td>\n",
       "      <td>0</td>\n",
       "      <td>1</td>\n",
       "      <td>0</td>\n",
       "      <td>...</td>\n",
       "      <td>2</td>\n",
       "      <td>0</td>\n",
       "      <td>2</td>\n",
       "      <td>0</td>\n",
       "      <td>0</td>\n",
       "      <td>0</td>\n",
       "      <td>0</td>\n",
       "      <td>0</td>\n",
       "      <td>2</td>\n",
       "      <td>0</td>\n",
       "    </tr>\n",
       "  </tbody>\n",
       "</table>\n",
       "<p>5 rows × 21 columns</p>\n",
       "</div>"
      ],
      "text/plain": [
       "   Unnamed: 0  SeniorCitizen  tenure  MonthlyCharges  TotalCharges  gender  \\\n",
       "0        1869              0      72           24.10       1734.65       1   \n",
       "1        4528              0      44           88.15       3973.20       0   \n",
       "2        6344              1      38           74.95       2869.85       0   \n",
       "3        6739              0       4           55.90        238.50       1   \n",
       "4         432              0       2           53.45        119.50       1   \n",
       "\n",
       "   Partner  Dependents  PhoneService  MultipleLines  ...  OnlineSecurity  \\\n",
       "0        1           1             1              2  ...               1   \n",
       "1        0           0             1              0  ...               0   \n",
       "2        1           0             1              2  ...               0   \n",
       "3        0           0             1              0  ...               0   \n",
       "4        0           0             1              0  ...               2   \n",
       "\n",
       "   OnlineBackup  DeviceProtection  TechSupport  StreamingTV  StreamingMovies  \\\n",
       "0             1                 1            1            1                1   \n",
       "1             2                 2            0            2                0   \n",
       "2             0                 0            0            0                0   \n",
       "3             0                 0            0            0                2   \n",
       "4             0                 2            0            0                0   \n",
       "\n",
       "   Contract  PaperlessBilling  PaymentMethod  Churn  \n",
       "0         2                 0              1      0  \n",
       "1         0                 1              1      0  \n",
       "2         0                 1              0      1  \n",
       "3         0                 1              2      0  \n",
       "4         0                 0              2      0  \n",
       "\n",
       "[5 rows x 21 columns]"
      ]
     },
     "execution_count": 103,
     "metadata": {},
     "output_type": "execute_result"
    }
   ],
   "source": [
    "data=pd.concat([numeric_data, encode_data], axis=1)\n",
    "data.head()"
   ]
  },
  {
   "cell_type": "code",
   "execution_count": 104,
   "metadata": {},
   "outputs": [],
   "source": [
    "data_copy=data.drop(['Unnamed: 0','gender','PhoneService','MultipleLines','InternetService','StreamingTV','StreamingMovies'], axis=1)"
   ]
  },
  {
   "cell_type": "markdown",
   "metadata": {},
   "source": [
    "Dropping the variables with high collinerity. "
   ]
  },
  {
   "cell_type": "code",
   "execution_count": 105,
   "metadata": {},
   "outputs": [],
   "source": [
    "X=data_copy.drop(['Churn'],axis=1)\n",
    "y=data_copy['Churn']"
   ]
  },
  {
   "cell_type": "code",
   "execution_count": 106,
   "metadata": {},
   "outputs": [],
   "source": [
    "from sklearn.model_selection import train_test_split\n",
    "X_train, X_test, y_train, y_test = train_test_split(X, y, test_size = 0.2, random_state = 0)"
   ]
  },
  {
   "cell_type": "code",
   "execution_count": 107,
   "metadata": {},
   "outputs": [
    {
     "name": "stdout",
     "output_type": "stream",
     "text": [
      "6328 6328\n"
     ]
    }
   ],
   "source": [
    "sm = SMOTE(random_state=23, sampling_strategy=0.8)\n",
    "X_train, y_train = sm.fit_resample(X_train, y_train)\n",
    "print(len(X_train), len(y_train))"
   ]
  },
  {
   "cell_type": "markdown",
   "metadata": {},
   "source": [
    "Balancing the data-set using SMOTE analysis so as the model does give bias predictions."
   ]
  },
  {
   "cell_type": "code",
   "execution_count": 108,
   "metadata": {},
   "outputs": [],
   "source": [
    "from sklearn.preprocessing import StandardScaler\n",
    "sc = StandardScaler()\n",
    "X_train = sc.fit_transform(X_train)\n",
    "X_test = sc.transform(X_test)"
   ]
  },
  {
   "cell_type": "markdown",
   "metadata": {},
   "source": [
    "Scaling the all the variables."
   ]
  },
  {
   "cell_type": "code",
   "execution_count": 109,
   "metadata": {},
   "outputs": [
    {
     "data": {
      "text/plain": [
       "SVC(kernel='linear', random_state=0)"
      ]
     },
     "execution_count": 109,
     "metadata": {},
     "output_type": "execute_result"
    }
   ],
   "source": [
    "from sklearn.svm import SVC\n",
    "classifier = SVC(kernel = 'linear', random_state = 0)\n",
    "classifier.fit(X_train, y_train)"
   ]
  },
  {
   "cell_type": "code",
   "execution_count": 110,
   "metadata": {
    "scrolled": true
   },
   "outputs": [
    {
     "name": "stdout",
     "output_type": "stream",
     "text": [
      "[[664 219]\n",
      " [ 81 234]]\n"
     ]
    },
    {
     "data": {
      "text/plain": [
       "0.7495826377295493"
      ]
     },
     "execution_count": 110,
     "metadata": {},
     "output_type": "execute_result"
    }
   ],
   "source": [
    "from sklearn.metrics import confusion_matrix, accuracy_score\n",
    "y_pred = classifier.predict(X_test)\n",
    "cm = confusion_matrix(y_test, y_pred)\n",
    "print(cm)\n",
    "accuracy_score(y_test, y_pred)"
   ]
  },
  {
   "cell_type": "code",
   "execution_count": 111,
   "metadata": {},
   "outputs": [
    {
     "data": {
      "text/plain": [
       "0.9981036662452591"
      ]
     },
     "execution_count": 111,
     "metadata": {},
     "output_type": "execute_result"
    }
   ],
   "source": [
    "from sklearn.ensemble import RandomForestClassifier\n",
    "classifier = RandomForestClassifier(n_estimators = 1380 ,bootstrap = True ,criterion = 'entropy', random_state = 0, n_jobs = 4)\n",
    "classifier.fit(X_train, y_train)\n",
    "x_pred = classifier.predict(X_train)\n",
    "accuracy_score(y_train,x_pred)"
   ]
  },
  {
   "cell_type": "code",
   "execution_count": 112,
   "metadata": {},
   "outputs": [
    {
     "name": "stdout",
     "output_type": "stream",
     "text": [
      "[[754 129]\n",
      " [139 176]]\n"
     ]
    },
    {
     "data": {
      "text/plain": [
       "0.7762938230383973"
      ]
     },
     "execution_count": 112,
     "metadata": {},
     "output_type": "execute_result"
    }
   ],
   "source": [
    "from sklearn.metrics import confusion_matrix, accuracy_score\n",
    "y_pred = classifier.predict(X_test)\n",
    "cm = confusion_matrix(y_test, y_pred)\n",
    "print(cm)\n",
    "\n",
    "accuracy_score(y_test, y_pred)"
   ]
  },
  {
   "cell_type": "markdown",
   "metadata": {},
   "source": [
    "## Getting prediction using ANN"
   ]
  },
  {
   "cell_type": "code",
   "execution_count": 186,
   "metadata": {},
   "outputs": [],
   "source": [
    "X_ann=data.drop(['Churn'],axis=1)\n",
    "y_ann=data['Churn']"
   ]
  },
  {
   "cell_type": "code",
   "execution_count": 187,
   "metadata": {},
   "outputs": [],
   "source": [
    "from sklearn.model_selection import train_test_split\n",
    "X_train_ann, X_test_ann, y_train_ann, y_test_ann = train_test_split(X_ann, y_ann, test_size = 0.2, random_state = 10)"
   ]
  },
  {
   "cell_type": "code",
   "execution_count": 188,
   "metadata": {},
   "outputs": [],
   "source": [
    "X_train_ann = sc.fit_transform(X_train_ann)\n",
    "X_test_ann = sc.transform(X_test_ann)"
   ]
  },
  {
   "cell_type": "code",
   "execution_count": 189,
   "metadata": {},
   "outputs": [],
   "source": [
    "ann = tf.keras.models.Sequential()"
   ]
  },
  {
   "cell_type": "code",
   "execution_count": 190,
   "metadata": {},
   "outputs": [],
   "source": [
    "ann.add(tf.keras.layers.Dense(units=20, activation='relu'))"
   ]
  },
  {
   "cell_type": "code",
   "execution_count": 191,
   "metadata": {},
   "outputs": [],
   "source": [
    "ann.add(tf.keras.layers.Dense(units=14, activation='relu'))"
   ]
  },
  {
   "cell_type": "code",
   "execution_count": 192,
   "metadata": {},
   "outputs": [],
   "source": [
    "ann.add(tf.keras.layers.Dense(units=10, activation='relu'))"
   ]
  },
  {
   "cell_type": "code",
   "execution_count": 193,
   "metadata": {},
   "outputs": [],
   "source": [
    "ann.add(tf.keras.layers.Dense(units=1, activation='sigmoid'))"
   ]
  },
  {
   "cell_type": "code",
   "execution_count": 194,
   "metadata": {},
   "outputs": [],
   "source": [
    "ann.compile(optimizer = 'adam', loss = 'binary_crossentropy', metrics = ['accuracy'])"
   ]
  },
  {
   "cell_type": "code",
   "execution_count": 195,
   "metadata": {
    "scrolled": true
   },
   "outputs": [
    {
     "name": "stdout",
     "output_type": "stream",
     "text": [
      "Epoch 1/100\n",
      "150/150 [==============================] - 2s 4ms/step - loss: 0.5401 - accuracy: 0.7289\n",
      "Epoch 2/100\n",
      "150/150 [==============================] - 1s 4ms/step - loss: 0.4636 - accuracy: 0.7540\n",
      "Epoch 3/100\n",
      "150/150 [==============================] - 1s 4ms/step - loss: 0.4465 - accuracy: 0.7772\n",
      "Epoch 4/100\n",
      "150/150 [==============================] - 1s 4ms/step - loss: 0.4378 - accuracy: 0.7847\n",
      "Epoch 5/100\n",
      "150/150 [==============================] - 0s 3ms/step - loss: 0.4307 - accuracy: 0.7903\n",
      "Epoch 6/100\n",
      "150/150 [==============================] - 1s 4ms/step - loss: 0.4265 - accuracy: 0.7914\n",
      "Epoch 7/100\n",
      "150/150 [==============================] - 0s 3ms/step - loss: 0.4228 - accuracy: 0.7957\n",
      "Epoch 8/100\n",
      "150/150 [==============================] - 0s 2ms/step - loss: 0.4204 - accuracy: 0.7899\n",
      "Epoch 9/100\n",
      "150/150 [==============================] - 0s 2ms/step - loss: 0.4167 - accuracy: 0.7980\n",
      "Epoch 10/100\n",
      "150/150 [==============================] - 1s 3ms/step - loss: 0.4150 - accuracy: 0.7985\n",
      "Epoch 11/100\n",
      "150/150 [==============================] - 0s 3ms/step - loss: 0.4137 - accuracy: 0.8026\n",
      "Epoch 12/100\n",
      "150/150 [==============================] - 1s 4ms/step - loss: 0.4117 - accuracy: 0.8022: 0s - loss: 0.3\n",
      "Epoch 13/100\n",
      "150/150 [==============================] - 0s 3ms/step - loss: 0.4100 - accuracy: 0.8026\n",
      "Epoch 14/100\n",
      "150/150 [==============================] - 1s 5ms/step - loss: 0.4088 - accuracy: 0.8024\n",
      "Epoch 15/100\n",
      "150/150 [==============================] - 1s 5ms/step - loss: 0.4079 - accuracy: 0.8016: 0s - loss: 0.4079 - accuracy: 0.80\n",
      "Epoch 16/100\n",
      "150/150 [==============================] - 0s 3ms/step - loss: 0.4059 - accuracy: 0.8047\n",
      "Epoch 17/100\n",
      "150/150 [==============================] - 1s 5ms/step - loss: 0.4047 - accuracy: 0.8051\n",
      "Epoch 18/100\n",
      "150/150 [==============================] - 1s 5ms/step - loss: 0.4035 - accuracy: 0.8070\n",
      "Epoch 19/100\n",
      "150/150 [==============================] - 1s 3ms/step - loss: 0.4024 - accuracy: 0.8095\n",
      "Epoch 20/100\n",
      "150/150 [==============================] - 1s 4ms/step - loss: 0.4008 - accuracy: 0.8058\n",
      "Epoch 21/100\n",
      "150/150 [==============================] - 0s 3ms/step - loss: 0.3995 - accuracy: 0.8087\n",
      "Epoch 22/100\n",
      "150/150 [==============================] - 1s 5ms/step - loss: 0.3982 - accuracy: 0.8114\n",
      "Epoch 23/100\n",
      "150/150 [==============================] - 1s 3ms/step - loss: 0.3974 - accuracy: 0.8116\n",
      "Epoch 24/100\n",
      "150/150 [==============================] - 1s 5ms/step - loss: 0.3959 - accuracy: 0.8112\n",
      "Epoch 25/100\n",
      "150/150 [==============================] - 1s 5ms/step - loss: 0.3947 - accuracy: 0.8122\n",
      "Epoch 26/100\n",
      "150/150 [==============================] - 0s 2ms/step - loss: 0.3935 - accuracy: 0.8091\n",
      "Epoch 27/100\n",
      "150/150 [==============================] - 0s 2ms/step - loss: 0.3926 - accuracy: 0.8127\n",
      "Epoch 28/100\n",
      "150/150 [==============================] - 1s 4ms/step - loss: 0.3912 - accuracy: 0.8129\n",
      "Epoch 29/100\n",
      "150/150 [==============================] - 1s 4ms/step - loss: 0.3901 - accuracy: 0.8164\n",
      "Epoch 30/100\n",
      "150/150 [==============================] - 0s 3ms/step - loss: 0.3887 - accuracy: 0.8147\n",
      "Epoch 31/100\n",
      "150/150 [==============================] - 1s 4ms/step - loss: 0.3878 - accuracy: 0.8143\n",
      "Epoch 32/100\n",
      "150/150 [==============================] - 0s 3ms/step - loss: 0.3856 - accuracy: 0.8162\n",
      "Epoch 33/100\n",
      "150/150 [==============================] - 0s 3ms/step - loss: 0.3849 - accuracy: 0.8189\n",
      "Epoch 34/100\n",
      "150/150 [==============================] - 0s 3ms/step - loss: 0.3857 - accuracy: 0.8135\n",
      "Epoch 35/100\n",
      "150/150 [==============================] - 0s 3ms/step - loss: 0.3836 - accuracy: 0.8183\n",
      "Epoch 36/100\n",
      "150/150 [==============================] - 1s 3ms/step - loss: 0.3818 - accuracy: 0.8187\n",
      "Epoch 37/100\n",
      "150/150 [==============================] - 1s 4ms/step - loss: 0.3811 - accuracy: 0.8166\n",
      "Epoch 38/100\n",
      "150/150 [==============================] - 1s 4ms/step - loss: 0.3805 - accuracy: 0.8183\n",
      "Epoch 39/100\n",
      "150/150 [==============================] - 1s 4ms/step - loss: 0.3788 - accuracy: 0.8229\n",
      "Epoch 40/100\n",
      "150/150 [==============================] - 0s 3ms/step - loss: 0.3783 - accuracy: 0.8214\n",
      "Epoch 41/100\n",
      "150/150 [==============================] - 1s 4ms/step - loss: 0.3765 - accuracy: 0.8214\n",
      "Epoch 42/100\n",
      "150/150 [==============================] - 1s 5ms/step - loss: 0.3755 - accuracy: 0.8239\n",
      "Epoch 43/100\n",
      "150/150 [==============================] - 1s 4ms/step - loss: 0.3747 - accuracy: 0.8216\n",
      "Epoch 44/100\n",
      "150/150 [==============================] - 1s 4ms/step - loss: 0.3736 - accuracy: 0.8246\n",
      "Epoch 45/100\n",
      "150/150 [==============================] - 1s 5ms/step - loss: 0.3745 - accuracy: 0.8218\n",
      "Epoch 46/100\n",
      "150/150 [==============================] - 0s 2ms/step - loss: 0.3724 - accuracy: 0.8221\n",
      "Epoch 47/100\n",
      "150/150 [==============================] - 1s 3ms/step - loss: 0.3714 - accuracy: 0.8246\n",
      "Epoch 48/100\n",
      "150/150 [==============================] - 1s 4ms/step - loss: 0.3714 - accuracy: 0.8225\n",
      "Epoch 49/100\n",
      "150/150 [==============================] - 1s 4ms/step - loss: 0.3701 - accuracy: 0.8252\n",
      "Epoch 50/100\n",
      "150/150 [==============================] - 1s 4ms/step - loss: 0.3689 - accuracy: 0.8271\n",
      "Epoch 51/100\n",
      "150/150 [==============================] - 1s 4ms/step - loss: 0.3678 - accuracy: 0.8264\n",
      "Epoch 52/100\n",
      "150/150 [==============================] - 1s 4ms/step - loss: 0.3672 - accuracy: 0.8264\n",
      "Epoch 53/100\n",
      "150/150 [==============================] - 1s 5ms/step - loss: 0.3658 - accuracy: 0.8277\n",
      "Epoch 54/100\n",
      "150/150 [==============================] - 1s 5ms/step - loss: 0.3642 - accuracy: 0.8321\n",
      "Epoch 55/100\n",
      "150/150 [==============================] - 0s 3ms/step - loss: 0.3643 - accuracy: 0.8275\n",
      "Epoch 56/100\n",
      "150/150 [==============================] - 0s 3ms/step - loss: 0.3644 - accuracy: 0.8287\n",
      "Epoch 57/100\n",
      "150/150 [==============================] - 0s 3ms/step - loss: 0.3622 - accuracy: 0.8317\n",
      "Epoch 58/100\n",
      "150/150 [==============================] - 0s 3ms/step - loss: 0.3618 - accuracy: 0.8319\n",
      "Epoch 59/100\n",
      "150/150 [==============================] - 1s 5ms/step - loss: 0.3606 - accuracy: 0.8312\n",
      "Epoch 60/100\n",
      "150/150 [==============================] - 1s 5ms/step - loss: 0.3599 - accuracy: 0.8300\n",
      "Epoch 61/100\n",
      "150/150 [==============================] - 0s 3ms/step - loss: 0.3590 - accuracy: 0.8333\n",
      "Epoch 62/100\n",
      "150/150 [==============================] - 0s 3ms/step - loss: 0.3571 - accuracy: 0.8327\n",
      "Epoch 63/100\n",
      "150/150 [==============================] - 1s 4ms/step - loss: 0.3575 - accuracy: 0.8323\n",
      "Epoch 64/100\n",
      "150/150 [==============================] - 0s 1ms/step - loss: 0.3569 - accuracy: 0.8310\n",
      "Epoch 65/100\n",
      "150/150 [==============================] - 1s 5ms/step - loss: 0.3552 - accuracy: 0.8333\n",
      "Epoch 66/100\n",
      "150/150 [==============================] - 1s 5ms/step - loss: 0.3552 - accuracy: 0.8325\n",
      "Epoch 67/100\n",
      "150/150 [==============================] - 1s 5ms/step - loss: 0.3538 - accuracy: 0.8363\n",
      "Epoch 68/100\n",
      "150/150 [==============================] - 1s 5ms/step - loss: 0.3533 - accuracy: 0.8323\n",
      "Epoch 69/100\n",
      "150/150 [==============================] - 1s 5ms/step - loss: 0.3522 - accuracy: 0.8363\n",
      "Epoch 70/100\n",
      "150/150 [==============================] - 1s 5ms/step - loss: 0.3517 - accuracy: 0.8354\n",
      "Epoch 71/100\n",
      "150/150 [==============================] - 1s 5ms/step - loss: 0.3497 - accuracy: 0.8348\n",
      "Epoch 72/100\n",
      "150/150 [==============================] - 1s 5ms/step - loss: 0.3483 - accuracy: 0.8365\n",
      "Epoch 73/100\n",
      "150/150 [==============================] - 1s 5ms/step - loss: 0.3486 - accuracy: 0.8369\n",
      "Epoch 74/100\n",
      "150/150 [==============================] - 1s 4ms/step - loss: 0.3493 - accuracy: 0.8406\n",
      "Epoch 75/100\n",
      "150/150 [==============================] - 1s 4ms/step - loss: 0.3477 - accuracy: 0.8344\n",
      "Epoch 76/100\n",
      "150/150 [==============================] - 1s 5ms/step - loss: 0.3459 - accuracy: 0.8390\n",
      "Epoch 77/100\n",
      "150/150 [==============================] - 1s 4ms/step - loss: 0.3466 - accuracy: 0.8409\n",
      "Epoch 78/100\n",
      "150/150 [==============================] - 0s 3ms/step - loss: 0.3453 - accuracy: 0.8394\n",
      "Epoch 79/100\n",
      "150/150 [==============================] - 1s 3ms/step - loss: 0.3436 - accuracy: 0.8398\n",
      "Epoch 80/100\n"
     ]
    },
    {
     "name": "stdout",
     "output_type": "stream",
     "text": [
      "150/150 [==============================] - 0s 3ms/step - loss: 0.3436 - accuracy: 0.8404\n",
      "Epoch 81/100\n",
      "150/150 [==============================] - 0s 2ms/step - loss: 0.3450 - accuracy: 0.8375\n",
      "Epoch 82/100\n",
      "150/150 [==============================] - 1s 5ms/step - loss: 0.3415 - accuracy: 0.8429\n",
      "Epoch 83/100\n",
      "150/150 [==============================] - 1s 5ms/step - loss: 0.3417 - accuracy: 0.8373\n",
      "Epoch 84/100\n",
      "150/150 [==============================] - 1s 4ms/step - loss: 0.3393 - accuracy: 0.8419\n",
      "Epoch 85/100\n",
      "150/150 [==============================] - 1s 4ms/step - loss: 0.3399 - accuracy: 0.8459\n",
      "Epoch 86/100\n",
      "150/150 [==============================] - 1s 4ms/step - loss: 0.3381 - accuracy: 0.8423\n",
      "Epoch 87/100\n",
      "150/150 [==============================] - 1s 4ms/step - loss: 0.3365 - accuracy: 0.8461\n",
      "Epoch 88/100\n",
      "150/150 [==============================] - 1s 4ms/step - loss: 0.3357 - accuracy: 0.8457\n",
      "Epoch 89/100\n",
      "150/150 [==============================] - 1s 4ms/step - loss: 0.3358 - accuracy: 0.8434\n",
      "Epoch 90/100\n",
      "150/150 [==============================] - 1s 3ms/step - loss: 0.3344 - accuracy: 0.8446\n",
      "Epoch 91/100\n",
      "150/150 [==============================] - 0s 3ms/step - loss: 0.3344 - accuracy: 0.8467\n",
      "Epoch 92/100\n",
      "150/150 [==============================] - 0s 3ms/step - loss: 0.3346 - accuracy: 0.8415\n",
      "Epoch 93/100\n",
      "150/150 [==============================] - 1s 4ms/step - loss: 0.3332 - accuracy: 0.8454\n",
      "Epoch 94/100\n",
      "150/150 [==============================] - 1s 4ms/step - loss: 0.3322 - accuracy: 0.8450\n",
      "Epoch 95/100\n",
      "150/150 [==============================] - 1s 4ms/step - loss: 0.3312 - accuracy: 0.8480\n",
      "Epoch 96/100\n",
      "150/150 [==============================] - 1s 4ms/step - loss: 0.3294 - accuracy: 0.8496\n",
      "Epoch 97/100\n",
      "150/150 [==============================] - 1s 4ms/step - loss: 0.3292 - accuracy: 0.8440\n",
      "Epoch 98/100\n",
      "150/150 [==============================] - 1s 4ms/step - loss: 0.3297 - accuracy: 0.8473\n",
      "Epoch 99/100\n",
      "150/150 [==============================] - 0s 1ms/step - loss: 0.3281 - accuracy: 0.8482\n",
      "Epoch 100/100\n",
      "150/150 [==============================] - 1s 4ms/step - loss: 0.3273 - accuracy: 0.8467\n"
     ]
    },
    {
     "data": {
      "text/plain": [
       "<keras.callbacks.History at 0x20919c4c400>"
      ]
     },
     "execution_count": 195,
     "metadata": {},
     "output_type": "execute_result"
    }
   ],
   "source": [
    "ann.fit(X_train_ann, y_train_ann,epochs = 100, use_multiprocessing = True)"
   ]
  },
  {
   "cell_type": "code",
   "execution_count": 198,
   "metadata": {},
   "outputs": [],
   "source": [
    "y_hat_ann = ann.predict(X_test_ann)\n",
    "\n",
    "y_pred_ann = []\n",
    "\n",
    "for i in y_hat_ann:\n",
    "    if i>0.5:\n",
    "        y_pred_ann.append(1)\n",
    "    else:\n",
    "        y_pred_ann.append(0)"
   ]
  },
  {
   "cell_type": "code",
   "execution_count": 200,
   "metadata": {},
   "outputs": [
    {
     "name": "stdout",
     "output_type": "stream",
     "text": [
      "[[764 109]\n",
      " [161 164]]\n"
     ]
    },
    {
     "data": {
      "text/plain": [
       "0.7746243739565943"
      ]
     },
     "execution_count": 200,
     "metadata": {},
     "output_type": "execute_result"
    }
   ],
   "source": [
    "cm_ann = confusion_matrix(y_test_ann, y_pred_ann)\n",
    "print(cm_ann)\n",
    "accuracy_score(y_test_ann, y_pred_ann)"
   ]
  },
  {
   "cell_type": "markdown",
   "metadata": {},
   "source": [
    "# Conclusion:-\n",
    "\n",
    "For Random forrest and Support vector classifier:\n",
    "\n",
    "1. The support vector classifier provides us a 74.95% accuracy and the Random forrest model gives us an accuracy of 77.62%.\n",
    "\n",
    "\n",
    "2. Confusion matrix has been used as an accuracy measurement technique for this model.\n",
    "\n",
    "\n",
    "3. The main purpose of the model is to identify people who might terminate their services which means give minimum number of false positive resuts i.e the model should not give wrong predictions for people who might terminate their services.\n",
    "\n",
    "\n",
    "4. In Random forrest classifier we can observe over fitting but it gives less number of false positive results as compared to the support vector classifer which is the whole goal of the project.\n",
    "\n",
    "For Artificial neural network:\n",
    "\n",
    "1. Using ANN we can observe that even at the same accuracy of 77% like random forrest, we get even less number of false positive results. \n",
    "\n",
    "2. Currently it can be concluded that according to our business requirment, ANN model works best.\n"
   ]
  },
  {
   "cell_type": "code",
   "execution_count": null,
   "metadata": {},
   "outputs": [],
   "source": []
  }
 ],
 "metadata": {
  "kernelspec": {
   "display_name": "Python 3",
   "language": "python",
   "name": "python3"
  },
  "language_info": {
   "codemirror_mode": {
    "name": "ipython",
    "version": 3
   },
   "file_extension": ".py",
   "mimetype": "text/x-python",
   "name": "python",
   "nbconvert_exporter": "python",
   "pygments_lexer": "ipython3",
   "version": "3.8.8"
  }
 },
 "nbformat": 4,
 "nbformat_minor": 4
}
